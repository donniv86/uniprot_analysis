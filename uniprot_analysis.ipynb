{
 "cells": [
  {
   "cell_type": "code",
   "execution_count": null,
   "metadata": {},
   "outputs": [],
   "source": [
    "import requests\n",
    "import re\n",
    "from sys import argv\n",
    "import shutil\n",
    "import pandas as pd\n",
    "import matplotlib.pyplot as plt\n",
    "import seaborn as sns\n",
    "sns.set_palette('Set2')\n",
    "import matplotlib.pyplot as plt\n",
    "%matplotlib inline"
   ]
  },
  {
   "cell_type": "code",
   "execution_count": null,
   "metadata": {},
   "outputs": [],
   "source": [
    "uni_prot_url = 'http://www.uniprot.org/uniprot/'\n",
    "uni_prot_id = 'P37231'\n",
    "\n",
    "pdb_url = r'https://files.rcsb.org/download/'\n"
   ]
  },
  {
   "cell_type": "code",
   "execution_count": null,
   "metadata": {},
   "outputs": [],
   "source": [
    "url=uni_prot_url + uni_prot_id\n",
    "data=pd.read_html(url)\n",
    "header=data[44].iloc[0]\n",
    "cols_to_retain=['PDB entry', 'Method', 'Resolution (Å)', 'Chain', 'Positions']\n",
    "data[44].rename(columns=header,inplace=True)\n",
    "clean_pdb=data[44][cols_to_retain]\n",
    "pdb_entry=clean_pdb[clean_pdb['PDB entry'].str.len()==4]\n",
    "pdb_entry['Resolution (Å)']=pd.to_numeric(pdb_entry.loc[:,'Resolution (Å)'],errors='coerce')"
   ]
  },
  {
   "cell_type": "code",
   "execution_count": null,
   "metadata": {},
   "outputs": [],
   "source": [
    "pdb_entry.groupby('Chain').count()['PDB entry'].plot(kind='pie',autopct='%1.1f%%', shadow=True)\n",
    "plt.show()"
   ]
  },
  {
   "cell_type": "code",
   "execution_count": null,
   "metadata": {},
   "outputs": [],
   "source": [
    "pdb_entry.groupby('Method').count()['PDB entry'].plot(kind='pie',autopct='%1.1f%%', shadow=True)\n",
    "plt.show()"
   ]
  },
  {
   "cell_type": "code",
   "execution_count": null,
   "metadata": {},
   "outputs": [],
   "source": [
    "sns.barplot(x = 'Chain', y = 'Resolution (Å)',data = pdb_entry)\n",
    "plt.show()"
   ]
  },
  {
   "cell_type": "code",
   "execution_count": null,
   "metadata": {},
   "outputs": [],
   "source": []
  },
  {
   "cell_type": "code",
   "execution_count": 35,
   "metadata": {},
   "outputs": [],
   "source": [
    "class uniprot:\n",
    "    \n",
    "    def uniprot_url(self,id):\n",
    "        self.id = id\n",
    "        link='http://www.uniprot.org/uniprot/'\n",
    "        url= link + id\n",
    "        self.url=url\n",
    "        return url"
   ]
  },
  {
   "cell_type": "code",
   "execution_count": 33,
   "metadata": {},
   "outputs": [],
   "source": [
    "uni = uniprot()"
   ]
  },
  {
   "cell_type": "code",
   "execution_count": 34,
   "metadata": {},
   "outputs": [
    {
     "data": {
      "text/plain": [
       "'http://www.uniprot.org/uniprot/P49122'"
      ]
     },
     "execution_count": 34,
     "metadata": {},
     "output_type": "execute_result"
    }
   ],
   "source": [
    "uni.uniprot_url('P49122')"
   ]
  },
  {
   "cell_type": "code",
   "execution_count": 43,
   "metadata": {},
   "outputs": [],
   "source": [
    "class uniprot:\n",
    "    def uni_web_url(self):\n",
    "        url = 'http://www.uniprot.org/uniprot/'\n",
    "        self.url=url\n",
    "        return url\n",
    "    \n",
    "    def uniprot_url(self,id):\n",
    "        self.id = id\n",
    "        self.url= uni_web_url() + id\n",
    "        return self.url"
   ]
  },
  {
   "cell_type": "code",
   "execution_count": 44,
   "metadata": {},
   "outputs": [],
   "source": [
    "uni2 = uniprot()"
   ]
  },
  {
   "cell_type": "code",
   "execution_count": 45,
   "metadata": {},
   "outputs": [
    {
     "data": {
      "text/plain": [
       "'http://www.uniprot.org/uniprot/'"
      ]
     },
     "execution_count": 45,
     "metadata": {},
     "output_type": "execute_result"
    }
   ],
   "source": [
    "uni2.uni_web_url(P49122)"
   ]
  },
  {
   "cell_type": "code",
   "execution_count": null,
   "metadata": {},
   "outputs": [],
   "source": [
    "uni2.uniprot_url('')"
   ]
  }
 ],
 "metadata": {
  "kernelspec": {
   "display_name": "Python 3",
   "language": "python",
   "name": "python3"
  },
  "language_info": {
   "codemirror_mode": {
    "name": "ipython",
    "version": 3
   },
   "file_extension": ".py",
   "mimetype": "text/x-python",
   "name": "python",
   "nbconvert_exporter": "python",
   "pygments_lexer": "ipython3",
   "version": "3.7.3"
  }
 },
 "nbformat": 4,
 "nbformat_minor": 2
}
