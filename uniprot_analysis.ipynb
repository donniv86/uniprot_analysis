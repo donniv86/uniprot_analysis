{
 "cells": [
  {
   "cell_type": "code",
   "execution_count": 11,
   "metadata": {},
   "outputs": [],
   "source": [
    "import requests\n",
    "import re\n",
    "from sys import argv\n",
    "import shutil\n",
    "import pandas as pd"
   ]
  },
  {
   "cell_type": "code",
   "execution_count": 7,
   "metadata": {},
   "outputs": [],
   "source": [
    "uni_prot_url = 'http://www.uniprot.org/uniprot/'\n",
    "uni_prot_id = 'P37231'\n",
    "exp=re.compile(r'href=\"http://www.ebi.ac.uk/pdbsum/(\\w+)')\n",
    "pdb_url = r'https://files.rcsb.org/download/'"
   ]
  },
  {
   "cell_type": "code",
   "execution_count": 10,
   "metadata": {},
   "outputs": [],
   "source": [
    "url=uni_prot_url + uni_prot_id"
   ]
  },
  {
   "cell_type": "code",
   "execution_count": 28,
   "metadata": {},
   "outputs": [
    {
     "data": {
      "text/html": [
       "<div>\n",
       "<style scoped>\n",
       "    .dataframe tbody tr th:only-of-type {\n",
       "        vertical-align: middle;\n",
       "    }\n",
       "\n",
       "    .dataframe tbody tr th {\n",
       "        vertical-align: top;\n",
       "    }\n",
       "\n",
       "    .dataframe thead th {\n",
       "        text-align: right;\n",
       "    }\n",
       "</style>\n",
       "<table border=\"1\" class=\"dataframe\">\n",
       "  <thead>\n",
       "    <tr style=\"text-align: right;\">\n",
       "      <th></th>\n",
       "      <th>0</th>\n",
       "      <th>1</th>\n",
       "      <th>2</th>\n",
       "      <th>3</th>\n",
       "      <th>4</th>\n",
       "      <th>5</th>\n",
       "      <th>6</th>\n",
       "    </tr>\n",
       "  </thead>\n",
       "  <tbody>\n",
       "    <tr>\n",
       "      <td>0</td>\n",
       "      <td>Select the link destinations:iiiLinks Updated</td>\n",
       "      <td>PDB entry</td>\n",
       "      <td>Method</td>\n",
       "      <td>Resolution (Å)</td>\n",
       "      <td>Chain</td>\n",
       "      <td>Positions</td>\n",
       "      <td>PDBsum</td>\n",
       "    </tr>\n",
       "    <tr>\n",
       "      <td>1</td>\n",
       "      <td>Select the link destinations:iiiLinks Updated</td>\n",
       "      <td>1FM6</td>\n",
       "      <td>X-ray</td>\n",
       "      <td>2.10</td>\n",
       "      <td>D/X</td>\n",
       "      <td>234-505</td>\n",
       "      <td>[»]</td>\n",
       "    </tr>\n",
       "    <tr>\n",
       "      <td>2</td>\n",
       "      <td>Select the link destinations:iiiLinks Updated</td>\n",
       "      <td>1FM9</td>\n",
       "      <td>X-ray</td>\n",
       "      <td>2.10</td>\n",
       "      <td>D</td>\n",
       "      <td>234-505</td>\n",
       "      <td>[»]</td>\n",
       "    </tr>\n",
       "    <tr>\n",
       "      <td>3</td>\n",
       "      <td>Select the link destinations:iiiLinks Updated</td>\n",
       "      <td>1I7I</td>\n",
       "      <td>X-ray</td>\n",
       "      <td>2.35</td>\n",
       "      <td>A/B</td>\n",
       "      <td>225-505</td>\n",
       "      <td>[»]</td>\n",
       "    </tr>\n",
       "    <tr>\n",
       "      <td>4</td>\n",
       "      <td>Select the link destinations:iiiLinks Updated</td>\n",
       "      <td>1K74</td>\n",
       "      <td>X-ray</td>\n",
       "      <td>2.30</td>\n",
       "      <td>D</td>\n",
       "      <td>234-505</td>\n",
       "      <td>[»]</td>\n",
       "    </tr>\n",
       "  </tbody>\n",
       "</table>\n",
       "</div>"
      ],
      "text/plain": [
       "                                               0          1       2  \\\n",
       "0  Select the link destinations:iiiLinks Updated  PDB entry  Method   \n",
       "1  Select the link destinations:iiiLinks Updated       1FM6   X-ray   \n",
       "2  Select the link destinations:iiiLinks Updated       1FM9   X-ray   \n",
       "3  Select the link destinations:iiiLinks Updated       1I7I   X-ray   \n",
       "4  Select the link destinations:iiiLinks Updated       1K74   X-ray   \n",
       "\n",
       "                3      4          5       6  \n",
       "0  Resolution (Å)  Chain  Positions  PDBsum  \n",
       "1            2.10    D/X    234-505     [»]  \n",
       "2            2.10      D    234-505     [»]  \n",
       "3            2.35    A/B    225-505     [»]  \n",
       "4            2.30      D    234-505     [»]  "
      ]
     },
     "execution_count": 28,
     "metadata": {},
     "output_type": "execute_result"
    }
   ],
   "source": [
    "data=pd.read_html(url)\n"
   ]
  },
  {
   "cell_type": "code",
   "execution_count": 29,
   "metadata": {},
   "outputs": [
    {
     "data": {
      "text/plain": [
       "0      PDB entry\n",
       "1           1FM6\n",
       "2           1FM9\n",
       "3           1I7I\n",
       "4           1K74\n",
       "         ...    \n",
       "224         6TSG\n",
       "225         6Y3U\n",
       "226       P37231\n",
       "227    Search...\n",
       "228    Search...\n",
       "Name: 1, Length: 229, dtype: object"
      ]
     },
     "execution_count": 29,
     "metadata": {},
     "output_type": "execute_result"
    }
   ],
   "source": [
    "data[44][1]"
   ]
  },
  {
   "cell_type": "code",
   "execution_count": null,
   "metadata": {},
   "outputs": [],
   "source": []
  }
 ],
 "metadata": {
  "kernelspec": {
   "display_name": "Python 3",
   "language": "python",
   "name": "python3"
  },
  "language_info": {
   "codemirror_mode": {
    "name": "ipython",
    "version": 3
   },
   "file_extension": ".py",
   "mimetype": "text/x-python",
   "name": "python",
   "nbconvert_exporter": "python",
   "pygments_lexer": "ipython3",
   "version": "3.7.3"
  }
 },
 "nbformat": 4,
 "nbformat_minor": 2
}
